{
 "cells": [
  {
   "cell_type": "code",
   "execution_count": null,
   "id": "cba1492f-c559-4fa0-9795-41247cb40256",
   "metadata": {},
   "outputs": [],
   "source": [
    "##Which keyword is use to create a function?Create a function to return a list of odd numbers in the rabge of 1 to 25"
   ]
  },
  {
   "cell_type": "code",
   "execution_count": null,
   "id": "fd3889df-3ada-42ee-93d4-24514af74f21",
   "metadata": {},
   "outputs": [],
   "source": [
    "def keyword is used to create a function "
   ]
  },
  {
   "cell_type": "code",
   "execution_count": 6,
   "id": "c1f0ea3e-5fea-4149-85db-b7d9493ed8d8",
   "metadata": {},
   "outputs": [],
   "source": [
    "def odd_numbers():\n",
    "    return[x for x in range(1,26) if x%2!=0]"
   ]
  },
  {
   "cell_type": "code",
   "execution_count": 7,
   "id": "27c2aac7-be76-41da-bd60-d799ad051b82",
   "metadata": {},
   "outputs": [
    {
     "data": {
      "text/plain": [
       "[1, 3, 5, 7, 9, 11, 13, 15, 17, 19, 21, 23, 25]"
      ]
     },
     "execution_count": 7,
     "metadata": {},
     "output_type": "execute_result"
    }
   ],
   "source": [
    "odd_numbers()"
   ]
  },
  {
   "cell_type": "code",
   "execution_count": null,
   "id": "d3bda556-da45-47a7-9053-19c30289a231",
   "metadata": {},
   "outputs": [],
   "source": [
    "#--->*args is used to pass a variable number of argument in a function\n",
    "*args are non-Keyword arguments\n",
    "#-->**kwargs is used to pass a key value pair of variable  of argument in a function\n",
    "**kwargs are keyword argument\n"
   ]
  },
  {
   "cell_type": "code",
   "execution_count": 10,
   "id": "23ed2b92-23db-4cef-9ee4-61fb30da5494",
   "metadata": {},
   "outputs": [
    {
     "name": "stdout",
     "output_type": "stream",
     "text": [
      "10\n"
     ]
    }
   ],
   "source": [
    "def sum_args(*args):\n",
    "    result = 0\n",
    "    for arg in args:\n",
    "        result += arg\n",
    "    return result\n",
    "\n",
    "print(sum_args(1, 2, 3, 4))\n"
   ]
  },
  {
   "cell_type": "code",
   "execution_count": 11,
   "id": "fb553397-c5fb-496d-970e-ccb47f379c35",
   "metadata": {},
   "outputs": [
    {
     "name": "stdout",
     "output_type": "stream",
     "text": [
      "name: John\n",
      "age: 25\n"
     ]
    }
   ],
   "source": [
    "def print_kwargs(**kwargs):\n",
    "    for key, value in kwargs.items():\n",
    "        print(f\"{key}: {value}\")\n",
    "\n",
    "print_kwargs(name=\"John\", age=25)\n"
   ]
  },
  {
   "cell_type": "code",
   "execution_count": null,
   "id": "f3b4afb5-a92a-4d3f-8a18-cb1bf707dc5b",
   "metadata": {},
   "outputs": [],
   "source": [
    "\"\"\"Q3.  What is an iterator in python? Name the method used to initialise the iterator object and the method \n",
    "used for iteration. Use these methods to print the first five elements of the given list [2, 4, 6, 8, 10, 12, 14, \n",
    "16, 18, 20].\"\"\""
   ]
  },
  {
   "cell_type": "code",
   "execution_count": null,
   "id": "37205995-d5a9-4f56-a479-1913aec6666e",
   "metadata": {
    "scrolled": true,
    "tags": []
   },
   "outputs": [],
   "source": [
    "Iterator in python is an object that is used to iterate over iterable objects like lists, tuples, dicts, and sets.\n",
    "The iterator object is initialized using the iter() method. \n",
    "It uses the next() method for iteration"
   ]
  },
  {
   "cell_type": "code",
   "execution_count": 13,
   "id": "3106b47e-6bb6-41c5-8897-fa05dc52c640",
   "metadata": {},
   "outputs": [
    {
     "name": "stdout",
     "output_type": "stream",
     "text": [
      "2\n",
      "4\n",
      "6\n",
      "8\n",
      "10\n"
     ]
    }
   ],
   "source": [
    "n = [2,4,6,8,10,12,16,18,20]\n",
    "it = iter(n)\n",
    "for i in range(5):\n",
    "    print(next(it))"
   ]
  },
  {
   "cell_type": "code",
   "execution_count": null,
   "id": "3ced7548-07fe-4395-978b-134abf18f018",
   "metadata": {},
   "outputs": [],
   "source": [
    "\"\"\" What is a generator function in python? Why yield keyword is used? Give an example of a generator \n",
    "function\"\"\""
   ]
  },
  {
   "cell_type": "code",
   "execution_count": null,
   "id": "628fd5a1-6a4f-424a-ae17-8d258c981706",
   "metadata": {},
   "outputs": [],
   "source": [
    "A generator function in Python is a special type of function that can be used to create an iterator. Unlike normal functions,\n",
    "generator functions use the yield statement to return values one by one, instead of using the return statement to return all values at once.\n",
    "When a generator function is called, it returns a generator object that can be iterated over using a for loop or the next function"
   ]
  },
  {
   "cell_type": "code",
   "execution_count": 15,
   "id": "cb1977c8-4aed-4382-a1a1-3b06385cf9f0",
   "metadata": {},
   "outputs": [
    {
     "name": "stdout",
     "output_type": "stream",
     "text": [
      "0\n",
      "1\n",
      "4\n",
      "9\n",
      "16\n"
     ]
    }
   ],
   "source": [
    "def square_numbers(n):\n",
    "    for i in range(n):\n",
    "        yield i**2\n",
    "gen = square_numbers(5)\n",
    "for num in gen:\n",
    "    print(num)"
   ]
  },
  {
   "cell_type": "code",
   "execution_count": null,
   "id": "fec713a0-95c7-4c76-a77c-5c0063c437fc",
   "metadata": {},
   "outputs": [],
   "source": [
    "\"\"\". Create a generator function for prime numbers less than 1000. Use the next() method to print the \n",
    "first 20 prime numbers\"\"\""
   ]
  },
  {
   "cell_type": "code",
   "execution_count": 1,
   "id": "80b62ce7-45fe-4136-bb9d-ea7518b17158",
   "metadata": {},
   "outputs": [
    {
     "name": "stdout",
     "output_type": "stream",
     "text": [
      "2\n",
      "3\n",
      "5\n",
      "7\n",
      "11\n",
      "13\n",
      "17\n",
      "19\n",
      "23\n",
      "29\n",
      "31\n",
      "37\n",
      "41\n",
      "43\n",
      "47\n",
      "53\n",
      "59\n",
      "61\n",
      "67\n",
      "71\n"
     ]
    }
   ],
   "source": [
    "def prime_numbers():\n",
    "    primes = []\n",
    "    for num in range(2, 1000):\n",
    "        for i in range(2, num):\n",
    "            if (num % i) == 0:\n",
    "                break\n",
    "        else:\n",
    "            primes.append(num)\n",
    "            yield num\n",
    "\n",
    "prime_gen = prime_numbers()\n",
    "for i in range(20):\n",
    "    print(next(prime_gen))\n"
   ]
  },
  {
   "cell_type": "code",
   "execution_count": null,
   "id": "f0da34f6-ca6d-4890-aabd-cc0819b2aa85",
   "metadata": {},
   "outputs": [],
   "source": [
    "\"\"\"Write a python program to print the first 10 Fibonacci numbers using a while loop\"\"\""
   ]
  },
  {
   "cell_type": "code",
   "execution_count": 3,
   "id": "3049606b-b12a-44db-b732-73e5d1a6fcfb",
   "metadata": {},
   "outputs": [
    {
     "name": "stdout",
     "output_type": "stream",
     "text": [
      "1\n",
      "1\n",
      "2\n",
      "3\n",
      "5\n",
      "8\n",
      "13\n",
      "21\n",
      "34\n",
      "55\n"
     ]
    }
   ],
   "source": [
    "def fibonacci(n):\n",
    "    a, b = 0, 1\n",
    "    while n > 0:\n",
    "        print(b)\n",
    "        a, b = b, a + b\n",
    "        n -= 1\n",
    "\n",
    "fibonacci(10)\n"
   ]
  },
  {
   "cell_type": "code",
   "execution_count": null,
   "id": "da6fbd6f-0ea9-40ff-a35b-e6fd7054a33b",
   "metadata": {},
   "outputs": [],
   "source": [
    "\"\"\"Write a List Comprehension to iterate through the given string: ‘pwskills’.\n",
    "\n",
    "Expected output: ['p', 'w', 's', 'k', 'i', 'l', 'l', 's'] \"\"\""
   ]
  },
  {
   "cell_type": "code",
   "execution_count": 4,
   "id": "772ce8a3-15bf-4068-ab1a-a162750a68a5",
   "metadata": {},
   "outputs": [
    {
     "name": "stdout",
     "output_type": "stream",
     "text": [
      "['p', 'w', 's', 'k', 'i', 'l', 'l', 's']\n"
     ]
    }
   ],
   "source": [
    "n = [str for str in \"pwskills\"]\n",
    "print(n)"
   ]
  },
  {
   "cell_type": "code",
   "execution_count": null,
   "id": "e4982d32-1001-40c0-a1ba-664e299204f2",
   "metadata": {},
   "outputs": [],
   "source": [
    " \"\"\"Write a python program to check whether a given number is Palindrome or not using a while loop\"\"\""
   ]
  },
  {
   "cell_type": "code",
   "execution_count": 8,
   "id": "d4525bc7-5d76-4f77-9325-c65f6c9541d2",
   "metadata": {},
   "outputs": [
    {
     "name": "stdin",
     "output_type": "stream",
     "text": [
      "enter the number:-  456\n"
     ]
    },
    {
     "name": "stdout",
     "output_type": "stream",
     "text": [
      "number is not a pallindrome\n"
     ]
    }
   ],
   "source": [
    "num = int(input(\"enter the number:- \"))\n",
    "orignal_number = num\n",
    "reverse = 0\n",
    "while(num>0):\n",
    "    digit = num%10\n",
    "    reverse = reverse*10+digit\n",
    "    num = num//10\n",
    "if orignal_number==reverse:\n",
    "    print(\"number is pallindrome\")\n",
    "else:\n",
    "    print(\"number is not a pallindrome\")"
   ]
  },
  {
   "cell_type": "code",
   "execution_count": null,
   "id": "9c756175-72b5-4f9b-8471-cf004bf957e4",
   "metadata": {},
   "outputs": [],
   "source": [
    "\"\"\"Write a code to print odd numbers from 1 to 100 using list comprehension\"\"\""
   ]
  },
  {
   "cell_type": "code",
   "execution_count": null,
   "id": "f12e6e6b-cd26-4268-872d-769fcb93e347",
   "metadata": {},
   "outputs": [],
   "source": [
    "#Create a list from 1 to 100 using list comprehension"
   ]
  },
  {
   "cell_type": "code",
   "execution_count": 11,
   "id": "322fc67c-30a4-49a6-bf73-39ff2a29e167",
   "metadata": {},
   "outputs": [
    {
     "name": "stdout",
     "output_type": "stream",
     "text": [
      "[1, 2, 3, 4, 5, 6, 7, 8, 9, 10, 11, 12, 13, 14, 15, 16, 17, 18, 19, 20, 21, 22, 23, 24, 25, 26, 27, 28, 29, 30, 31, 32, 33, 34, 35, 36, 37, 38, 39, 40, 41, 42, 43, 44, 45, 46, 47, 48, 49, 50, 51, 52, 53, 54, 55, 56, 57, 58, 59, 60, 61, 62, 63, 64, 65, 66, 67, 68, 69, 70, 71, 72, 73, 74, 75, 76, 77, 78, 79, 80, 81, 82, 83, 84, 85, 86, 87, 88, 89, 90, 91, 92, 93, 94, 95, 96, 97, 98, 99, 100]\n"
     ]
    }
   ],
   "source": [
    "n =[i for i in range(1,101)]\n",
    "print(n)"
   ]
  },
  {
   "cell_type": "code",
   "execution_count": null,
   "id": "d62ca604-f11b-4ade-b985-6d3915b2c5ac",
   "metadata": {},
   "outputs": [],
   "source": [
    "#odd numbers from 1 to 100 are as follows"
   ]
  },
  {
   "cell_type": "code",
   "execution_count": 13,
   "id": "15a9b3b7-f397-4ac6-9993-0785381f472f",
   "metadata": {},
   "outputs": [
    {
     "name": "stdout",
     "output_type": "stream",
     "text": [
      "[1, 3, 5, 7, 9, 11, 13, 15, 17, 19, 21, 23, 25, 27, 29, 31, 33, 35, 37, 39, 41, 43, 45, 47, 49, 51, 53, 55, 57, 59, 61, 63, 65, 67, 69, 71, 73, 75, 77, 79, 81, 83, 85, 87, 89, 91, 93, 95, 97, 99]\n"
     ]
    }
   ],
   "source": [
    "n = [i for i in range(1,101) if i%2!=0]\n",
    "print(n)"
   ]
  },
  {
   "cell_type": "code",
   "execution_count": null,
   "id": "6f8b2f12-130e-41e0-a038-eea57fc8aec0",
   "metadata": {},
   "outputs": [],
   "source": []
  }
 ],
 "metadata": {
  "kernelspec": {
   "display_name": "Python 3 (ipykernel)",
   "language": "python",
   "name": "python3"
  },
  "language_info": {
   "codemirror_mode": {
    "name": "ipython",
    "version": 3
   },
   "file_extension": ".py",
   "mimetype": "text/x-python",
   "name": "python",
   "nbconvert_exporter": "python",
   "pygments_lexer": "ipython3",
   "version": "3.10.8"
  }
 },
 "nbformat": 4,
 "nbformat_minor": 5
}
